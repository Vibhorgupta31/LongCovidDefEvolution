{
 "cells": [
  {
   "cell_type": "code",
   "execution_count": 1,
   "id": "959abe9b-177c-41aa-af63-fe9f7afd10e0",
   "metadata": {
    "scrolled": true
   },
   "outputs": [
    {
     "name": "stderr",
     "output_type": "stream",
     "text": [
      "/opt/anaconda3/envs/test/lib/python3.12/site-packages/tqdm/auto.py:21: TqdmWarning: IProgress not found. Please update jupyter and ipywidgets. See https://ipywidgets.readthedocs.io/en/stable/user_install.html\n",
      "  from .autonotebook import tqdm as notebook_tqdm\n",
      "/opt/anaconda3/envs/test/lib/python3.12/site-packages/requests/__init__.py:86: RequestsDependencyWarning: Unable to find acceptable character detection dependency (chardet or charset_normalizer).\n",
      "  warnings.warn(\n"
     ]
    },
    {
     "data": {
      "text/html": [
       "\n",
       "            <div>\n",
       "                <ins><a href=\"https://ydata.ai/register\">Upgrade to ydata-sdk</a></ins>\n",
       "                <p>\n",
       "                    Improve your data and profiling with ydata-sdk, featuring data quality scoring, redundancy detection, outlier identification, text validation, and synthetic data generation.\n",
       "                </p>\n",
       "            </div>\n",
       "            "
      ],
      "text/plain": [
       "<IPython.core.display.HTML object>"
      ]
     },
     "metadata": {},
     "output_type": "display_data"
    }
   ],
   "source": [
    "# Library imports\n",
    "import pandas as pd\n",
    "import plotly.express as px\n",
    "import warnings\n",
    "from ydata_profiling import ProfileReport\n",
    "\n",
    "warnings.filterwarnings('ignore')"
   ]
  },
  {
   "cell_type": "code",
   "execution_count": 2,
   "id": "2587cf76-4199-4dd9-b453-bb78ad4d1c43",
   "metadata": {},
   "outputs": [
    {
     "data": {
      "text/html": [
       "<div>\n",
       "<style scoped>\n",
       "    .dataframe tbody tr th:only-of-type {\n",
       "        vertical-align: middle;\n",
       "    }\n",
       "\n",
       "    .dataframe tbody tr th {\n",
       "        vertical-align: top;\n",
       "    }\n",
       "\n",
       "    .dataframe thead th {\n",
       "        text-align: right;\n",
       "    }\n",
       "</style>\n",
       "<table border=\"1\" class=\"dataframe\">\n",
       "  <thead>\n",
       "    <tr style=\"text-align: right;\">\n",
       "      <th></th>\n",
       "      <th>PMID</th>\n",
       "      <th>Title</th>\n",
       "      <th>Verbatim Definition</th>\n",
       "      <th>Term A</th>\n",
       "      <th>Term B</th>\n",
       "      <th>Term C</th>\n",
       "      <th>Term D</th>\n",
       "      <th>Term E</th>\n",
       "      <th>published_year</th>\n",
       "      <th>study_year</th>\n",
       "      <th>definitions</th>\n",
       "    </tr>\n",
       "  </thead>\n",
       "  <tbody>\n",
       "    <tr>\n",
       "      <th>0</th>\n",
       "      <td>35589549</td>\n",
       "      <td>Identifying who has long COVID in the USA: a m...</td>\n",
       "      <td>However, three N3C sites provided lists of loc...</td>\n",
       "      <td>NaN</td>\n",
       "      <td>NaN</td>\n",
       "      <td>Visit to Long COVID Clinic</td>\n",
       "      <td>NaN</td>\n",
       "      <td>NaN</td>\n",
       "      <td>2022</td>\n",
       "      <td>NaN</td>\n",
       "      <td>Visit to Long COVID Clinic</td>\n",
       "    </tr>\n",
       "    <tr>\n",
       "      <th>1</th>\n",
       "      <td>36415203</td>\n",
       "      <td>Vital Measurements of Hospitalized COVID-19 Pa...</td>\n",
       "      <td>Due to limited documentation of Long COVID, we...</td>\n",
       "      <td>NaN</td>\n",
       "      <td>NaN</td>\n",
       "      <td>NaN</td>\n",
       "      <td>Computaional Phenotype Model based on U09.9 in...</td>\n",
       "      <td>NaN</td>\n",
       "      <td>2022</td>\n",
       "      <td>NaN</td>\n",
       "      <td>Computaional Phenotype Model based on U09.9 in...</td>\n",
       "    </tr>\n",
       "    <tr>\n",
       "      <th>2</th>\n",
       "      <td>36563487</td>\n",
       "      <td>Generalisable long COVID subtypes: findings fr...</td>\n",
       "      <td>Patients with U09.9 (Long COVID) diagnosis</td>\n",
       "      <td>ICD-10 : U09.9</td>\n",
       "      <td>NaN</td>\n",
       "      <td>NaN</td>\n",
       "      <td>NaN</td>\n",
       "      <td>NaN</td>\n",
       "      <td>2023</td>\n",
       "      <td>The data freeze date was August 10, 2022</td>\n",
       "      <td>ICD-10 : U09.9</td>\n",
       "    </tr>\n",
       "    <tr>\n",
       "      <th>3</th>\n",
       "      <td>36793086</td>\n",
       "      <td>Coding long COVID: characterizing a new diseas...</td>\n",
       "      <td>In this retrospective cohort study, we defined...</td>\n",
       "      <td>ICD-10 : U09.9</td>\n",
       "      <td>NaN</td>\n",
       "      <td>NaN</td>\n",
       "      <td>NaN</td>\n",
       "      <td>NaN</td>\n",
       "      <td>2023</td>\n",
       "      <td>NaN</td>\n",
       "      <td>ICD-10 : U09.9</td>\n",
       "    </tr>\n",
       "    <tr>\n",
       "      <th>4</th>\n",
       "      <td>3716633</td>\n",
       "      <td>Risk of post-acute sequelae of SARS-CoV-2 infe...</td>\n",
       "      <td>Adult patients with all of the following withi...</td>\n",
       "      <td>NaN</td>\n",
       "      <td>NaN</td>\n",
       "      <td>Visit to Long COVID Clinic</td>\n",
       "      <td>NaN</td>\n",
       "      <td>NaN</td>\n",
       "      <td>2023</td>\n",
       "      <td>2020/03/01 - 2022/02/28</td>\n",
       "      <td>Visit to Long COVID Clinic</td>\n",
       "    </tr>\n",
       "  </tbody>\n",
       "</table>\n",
       "</div>"
      ],
      "text/plain": [
       "       PMID                                              Title  \\\n",
       "0  35589549  Identifying who has long COVID in the USA: a m...   \n",
       "1  36415203  Vital Measurements of Hospitalized COVID-19 Pa...   \n",
       "2  36563487  Generalisable long COVID subtypes: findings fr...   \n",
       "3  36793086  Coding long COVID: characterizing a new diseas...   \n",
       "4   3716633  Risk of post-acute sequelae of SARS-CoV-2 infe...   \n",
       "\n",
       "                                Verbatim Definition            Term A Term B  \\\n",
       "0  However, three N3C sites provided lists of loc...              NaN    NaN   \n",
       "1  Due to limited documentation of Long COVID, we...              NaN    NaN   \n",
       "2         Patients with U09.9 (Long COVID) diagnosis  ICD-10 : U09.9     NaN   \n",
       "3  In this retrospective cohort study, we defined...  ICD-10 : U09.9     NaN   \n",
       "4  Adult patients with all of the following withi...              NaN    NaN   \n",
       "\n",
       "                       Term C  \\\n",
       "0  Visit to Long COVID Clinic   \n",
       "1                         NaN   \n",
       "2                         NaN   \n",
       "3                         NaN   \n",
       "4  Visit to Long COVID Clinic   \n",
       "\n",
       "                                              Term D Term E  published_year  \\\n",
       "0                                                NaN    NaN            2022   \n",
       "1  Computaional Phenotype Model based on U09.9 in...    NaN            2022   \n",
       "2                                                NaN    NaN            2023   \n",
       "3                                                NaN    NaN            2023   \n",
       "4                                                NaN    NaN            2023   \n",
       "\n",
       "                                 study_year  \\\n",
       "0                                       NaN   \n",
       "1                                       NaN   \n",
       "2  The data freeze date was August 10, 2022   \n",
       "3                                       NaN   \n",
       "4                   2020/03/01 - 2022/02/28   \n",
       "\n",
       "                                         definitions  \n",
       "0                         Visit to Long COVID Clinic  \n",
       "1  Computaional Phenotype Model based on U09.9 in...  \n",
       "2                                     ICD-10 : U09.9  \n",
       "3                                     ICD-10 : U09.9  \n",
       "4                         Visit to Long COVID Clinic  "
      ]
     },
     "execution_count": 2,
     "metadata": {},
     "output_type": "execute_result"
    }
   ],
   "source": [
    "raw_data = pd.read_csv(\"Data/final_extracted_terms_and_definitions.csv\")\n",
    "raw_data.head()"
   ]
  },
  {
   "cell_type": "code",
   "execution_count": 3,
   "id": "377f84fb-9eec-404d-a947-580d625727a4",
   "metadata": {},
   "outputs": [
    {
     "name": "stdout",
     "output_type": "stream",
     "text": [
      "<class 'pandas.core.frame.DataFrame'>\n",
      "RangeIndex: 21 entries, 0 to 20\n",
      "Data columns (total 11 columns):\n",
      " #   Column                Non-Null Count  Dtype \n",
      "---  ------                --------------  ----- \n",
      " 0   PMID                  21 non-null     object\n",
      " 1   Title                 21 non-null     object\n",
      " 2   Verbatim Definition   21 non-null     object\n",
      " 3   Term A                16 non-null     object\n",
      " 4   Term B                6 non-null      object\n",
      " 5   Term C                5 non-null      object\n",
      " 6   Term D                3 non-null      object\n",
      " 7   Term E                1 non-null      object\n",
      " 8   published_year        21 non-null     int64 \n",
      " 9   study_year            7 non-null      object\n",
      " 10  definitions           21 non-null     object\n",
      "dtypes: int64(1), object(10)\n",
      "memory usage: 1.9+ KB\n"
     ]
    }
   ],
   "source": [
    "# Type conversion of columns\n",
    "raw_data[\"PMID\"] = raw_data[\"PMID\"].astype(str)\n",
    "raw_data.info()"
   ]
  },
  {
   "cell_type": "code",
   "execution_count": 4,
   "id": "1639428b-98df-49e8-a1b2-a7870f9a2e68",
   "metadata": {},
   "outputs": [],
   "source": [
    "pdata = raw_data.groupby(by=['published_year','definitions'], as_index= False)[\"PMID\"].count()\n"
   ]
  },
  {
   "cell_type": "code",
   "execution_count": 5,
   "id": "6d08d5f4-afa1-43dd-83d0-2fb6a371046f",
   "metadata": {},
   "outputs": [
    {
     "data": {
      "text/html": [
       "<div>\n",
       "<style scoped>\n",
       "    .dataframe tbody tr th:only-of-type {\n",
       "        vertical-align: middle;\n",
       "    }\n",
       "\n",
       "    .dataframe tbody tr th {\n",
       "        vertical-align: top;\n",
       "    }\n",
       "\n",
       "    .dataframe thead th {\n",
       "        text-align: right;\n",
       "    }\n",
       "</style>\n",
       "<table border=\"1\" class=\"dataframe\">\n",
       "  <thead>\n",
       "    <tr style=\"text-align: right;\">\n",
       "      <th></th>\n",
       "      <th>published_year</th>\n",
       "      <th>definitions</th>\n",
       "      <th>Count Of Articles</th>\n",
       "    </tr>\n",
       "  </thead>\n",
       "  <tbody>\n",
       "    <tr>\n",
       "      <th>0</th>\n",
       "      <td>2022</td>\n",
       "      <td>Computaional Phenotype Model based on U09.9 in...</td>\n",
       "      <td>1</td>\n",
       "    </tr>\n",
       "    <tr>\n",
       "      <th>1</th>\n",
       "      <td>2022</td>\n",
       "      <td>Visit to Long COVID Clinic</td>\n",
       "      <td>1</td>\n",
       "    </tr>\n",
       "    <tr>\n",
       "      <th>2</th>\n",
       "      <td>2023</td>\n",
       "      <td>Computaional Phenotype Model based on U09.9 in...</td>\n",
       "      <td>1</td>\n",
       "    </tr>\n",
       "    <tr>\n",
       "      <th>3</th>\n",
       "      <td>2023</td>\n",
       "      <td>ICD-10 : U09.9</td>\n",
       "      <td>4</td>\n",
       "    </tr>\n",
       "    <tr>\n",
       "      <th>4</th>\n",
       "      <td>2023</td>\n",
       "      <td>ICD-10 : U09.9, ICD-10 : B94.8</td>\n",
       "      <td>1</td>\n",
       "    </tr>\n",
       "    <tr>\n",
       "      <th>5</th>\n",
       "      <td>2023</td>\n",
       "      <td>ICD-10 : U09.9, ICD-10 : B94.8, Visit to Long ...</td>\n",
       "      <td>1</td>\n",
       "    </tr>\n",
       "    <tr>\n",
       "      <th>6</th>\n",
       "      <td>2023</td>\n",
       "      <td>Visit to Long COVID Clinic</td>\n",
       "      <td>1</td>\n",
       "    </tr>\n",
       "    <tr>\n",
       "      <th>7</th>\n",
       "      <td>2024</td>\n",
       "      <td>ICD-10 : U09.9</td>\n",
       "      <td>4</td>\n",
       "    </tr>\n",
       "    <tr>\n",
       "      <th>8</th>\n",
       "      <td>2024</td>\n",
       "      <td>ICD-10 : U09.9, Computaional Phenotype Model b...</td>\n",
       "      <td>1</td>\n",
       "    </tr>\n",
       "    <tr>\n",
       "      <th>9</th>\n",
       "      <td>2024</td>\n",
       "      <td>ICD-10 : U09.9, ICD-10 : B94.8</td>\n",
       "      <td>3</td>\n",
       "    </tr>\n",
       "    <tr>\n",
       "      <th>10</th>\n",
       "      <td>2024</td>\n",
       "      <td>ICD-10 : U09.9, ICD-10 : B94.8, Visit to Long ...</td>\n",
       "      <td>1</td>\n",
       "    </tr>\n",
       "    <tr>\n",
       "      <th>11</th>\n",
       "      <td>2024</td>\n",
       "      <td>ICD-10 : U09.9, Visit to Long COVID Clinic</td>\n",
       "      <td>1</td>\n",
       "    </tr>\n",
       "    <tr>\n",
       "      <th>12</th>\n",
       "      <td>2025</td>\n",
       "      <td>NLP on EHR reports</td>\n",
       "      <td>1</td>\n",
       "    </tr>\n",
       "  </tbody>\n",
       "</table>\n",
       "</div>"
      ],
      "text/plain": [
       "    published_year                                        definitions  \\\n",
       "0             2022  Computaional Phenotype Model based on U09.9 in...   \n",
       "1             2022                         Visit to Long COVID Clinic   \n",
       "2             2023  Computaional Phenotype Model based on U09.9 in...   \n",
       "3             2023                                     ICD-10 : U09.9   \n",
       "4             2023                     ICD-10 : U09.9, ICD-10 : B94.8   \n",
       "5             2023  ICD-10 : U09.9, ICD-10 : B94.8, Visit to Long ...   \n",
       "6             2023                         Visit to Long COVID Clinic   \n",
       "7             2024                                     ICD-10 : U09.9   \n",
       "8             2024  ICD-10 : U09.9, Computaional Phenotype Model b...   \n",
       "9             2024                     ICD-10 : U09.9, ICD-10 : B94.8   \n",
       "10            2024  ICD-10 : U09.9, ICD-10 : B94.8, Visit to Long ...   \n",
       "11            2024        ICD-10 : U09.9, Visit to Long COVID Clinic    \n",
       "12            2025                                 NLP on EHR reports   \n",
       "\n",
       "    Count Of Articles  \n",
       "0                   1  \n",
       "1                   1  \n",
       "2                   1  \n",
       "3                   4  \n",
       "4                   1  \n",
       "5                   1  \n",
       "6                   1  \n",
       "7                   4  \n",
       "8                   1  \n",
       "9                   3  \n",
       "10                  1  \n",
       "11                  1  \n",
       "12                  1  "
      ]
     },
     "execution_count": 5,
     "metadata": {},
     "output_type": "execute_result"
    }
   ],
   "source": [
    "pdata.rename(columns= {\"PMID\":\"Count Of Articles\"}, inplace= True)\n",
    "pdata"
   ]
  },
  {
   "cell_type": "code",
   "execution_count": 6,
   "id": "981a99ff-8094-4c4c-ae44-f6a12268bba0",
   "metadata": {},
   "outputs": [],
   "source": [
    "pdata = pd.merge(pdata, pdata.groupby(by=['published_year'], as_index=False)['Count Of Articles'].sum(), on = 'published_year')"
   ]
  },
  {
   "cell_type": "code",
   "execution_count": 7,
   "id": "96595196-c9c5-4867-832f-ff226cb46779",
   "metadata": {},
   "outputs": [],
   "source": [
    "pdata.rename(columns={'Count Of Articles_x': 'Count Of Articles', 'Count Of Articles_y' : 'Total Articles in the year'}, inplace= True)"
   ]
  },
  {
   "cell_type": "code",
   "execution_count": 8,
   "id": "055555d6-d880-44af-84be-f7788a3dc776",
   "metadata": {},
   "outputs": [
    {
     "data": {
      "text/html": [
       "<div>\n",
       "<style scoped>\n",
       "    .dataframe tbody tr th:only-of-type {\n",
       "        vertical-align: middle;\n",
       "    }\n",
       "\n",
       "    .dataframe tbody tr th {\n",
       "        vertical-align: top;\n",
       "    }\n",
       "\n",
       "    .dataframe thead th {\n",
       "        text-align: right;\n",
       "    }\n",
       "</style>\n",
       "<table border=\"1\" class=\"dataframe\">\n",
       "  <thead>\n",
       "    <tr style=\"text-align: right;\">\n",
       "      <th></th>\n",
       "      <th>published_year</th>\n",
       "      <th>definitions</th>\n",
       "      <th>Count Of Articles</th>\n",
       "      <th>Total Articles in the year</th>\n",
       "    </tr>\n",
       "  </thead>\n",
       "  <tbody>\n",
       "    <tr>\n",
       "      <th>0</th>\n",
       "      <td>2022</td>\n",
       "      <td>Computaional Phenotype Model based on U09.9 in...</td>\n",
       "      <td>1</td>\n",
       "      <td>2</td>\n",
       "    </tr>\n",
       "    <tr>\n",
       "      <th>1</th>\n",
       "      <td>2022</td>\n",
       "      <td>Visit to Long COVID Clinic</td>\n",
       "      <td>1</td>\n",
       "      <td>2</td>\n",
       "    </tr>\n",
       "    <tr>\n",
       "      <th>2</th>\n",
       "      <td>2023</td>\n",
       "      <td>Computaional Phenotype Model based on U09.9 in...</td>\n",
       "      <td>1</td>\n",
       "      <td>8</td>\n",
       "    </tr>\n",
       "    <tr>\n",
       "      <th>3</th>\n",
       "      <td>2023</td>\n",
       "      <td>ICD-10 : U09.9</td>\n",
       "      <td>4</td>\n",
       "      <td>8</td>\n",
       "    </tr>\n",
       "    <tr>\n",
       "      <th>4</th>\n",
       "      <td>2023</td>\n",
       "      <td>ICD-10 : U09.9, ICD-10 : B94.8</td>\n",
       "      <td>1</td>\n",
       "      <td>8</td>\n",
       "    </tr>\n",
       "    <tr>\n",
       "      <th>5</th>\n",
       "      <td>2023</td>\n",
       "      <td>ICD-10 : U09.9, ICD-10 : B94.8, Visit to Long ...</td>\n",
       "      <td>1</td>\n",
       "      <td>8</td>\n",
       "    </tr>\n",
       "    <tr>\n",
       "      <th>6</th>\n",
       "      <td>2023</td>\n",
       "      <td>Visit to Long COVID Clinic</td>\n",
       "      <td>1</td>\n",
       "      <td>8</td>\n",
       "    </tr>\n",
       "    <tr>\n",
       "      <th>7</th>\n",
       "      <td>2024</td>\n",
       "      <td>ICD-10 : U09.9</td>\n",
       "      <td>4</td>\n",
       "      <td>10</td>\n",
       "    </tr>\n",
       "    <tr>\n",
       "      <th>8</th>\n",
       "      <td>2024</td>\n",
       "      <td>ICD-10 : U09.9, Computaional Phenotype Model b...</td>\n",
       "      <td>1</td>\n",
       "      <td>10</td>\n",
       "    </tr>\n",
       "    <tr>\n",
       "      <th>9</th>\n",
       "      <td>2024</td>\n",
       "      <td>ICD-10 : U09.9, ICD-10 : B94.8</td>\n",
       "      <td>3</td>\n",
       "      <td>10</td>\n",
       "    </tr>\n",
       "    <tr>\n",
       "      <th>10</th>\n",
       "      <td>2024</td>\n",
       "      <td>ICD-10 : U09.9, ICD-10 : B94.8, Visit to Long ...</td>\n",
       "      <td>1</td>\n",
       "      <td>10</td>\n",
       "    </tr>\n",
       "    <tr>\n",
       "      <th>11</th>\n",
       "      <td>2024</td>\n",
       "      <td>ICD-10 : U09.9, Visit to Long COVID Clinic</td>\n",
       "      <td>1</td>\n",
       "      <td>10</td>\n",
       "    </tr>\n",
       "    <tr>\n",
       "      <th>12</th>\n",
       "      <td>2025</td>\n",
       "      <td>NLP on EHR reports</td>\n",
       "      <td>1</td>\n",
       "      <td>1</td>\n",
       "    </tr>\n",
       "  </tbody>\n",
       "</table>\n",
       "</div>"
      ],
      "text/plain": [
       "    published_year                                        definitions  \\\n",
       "0             2022  Computaional Phenotype Model based on U09.9 in...   \n",
       "1             2022                         Visit to Long COVID Clinic   \n",
       "2             2023  Computaional Phenotype Model based on U09.9 in...   \n",
       "3             2023                                     ICD-10 : U09.9   \n",
       "4             2023                     ICD-10 : U09.9, ICD-10 : B94.8   \n",
       "5             2023  ICD-10 : U09.9, ICD-10 : B94.8, Visit to Long ...   \n",
       "6             2023                         Visit to Long COVID Clinic   \n",
       "7             2024                                     ICD-10 : U09.9   \n",
       "8             2024  ICD-10 : U09.9, Computaional Phenotype Model b...   \n",
       "9             2024                     ICD-10 : U09.9, ICD-10 : B94.8   \n",
       "10            2024  ICD-10 : U09.9, ICD-10 : B94.8, Visit to Long ...   \n",
       "11            2024        ICD-10 : U09.9, Visit to Long COVID Clinic    \n",
       "12            2025                                 NLP on EHR reports   \n",
       "\n",
       "    Count Of Articles  Total Articles in the year  \n",
       "0                   1                           2  \n",
       "1                   1                           2  \n",
       "2                   1                           8  \n",
       "3                   4                           8  \n",
       "4                   1                           8  \n",
       "5                   1                           8  \n",
       "6                   1                           8  \n",
       "7                   4                          10  \n",
       "8                   1                          10  \n",
       "9                   3                          10  \n",
       "10                  1                          10  \n",
       "11                  1                          10  \n",
       "12                  1                           1  "
      ]
     },
     "execution_count": 8,
     "metadata": {},
     "output_type": "execute_result"
    }
   ],
   "source": [
    "pdata"
   ]
  },
  {
   "cell_type": "code",
   "execution_count": 9,
   "id": "7f45e56e-0a31-4217-aeaa-f9c67969fb53",
   "metadata": {},
   "outputs": [
    {
     "data": {
      "text/html": [
       "<div>\n",
       "<style scoped>\n",
       "    .dataframe tbody tr th:only-of-type {\n",
       "        vertical-align: middle;\n",
       "    }\n",
       "\n",
       "    .dataframe tbody tr th {\n",
       "        vertical-align: top;\n",
       "    }\n",
       "\n",
       "    .dataframe thead th {\n",
       "        text-align: right;\n",
       "    }\n",
       "</style>\n",
       "<table border=\"1\" class=\"dataframe\">\n",
       "  <thead>\n",
       "    <tr style=\"text-align: right;\">\n",
       "      <th></th>\n",
       "      <th>published_year</th>\n",
       "      <th>definitions</th>\n",
       "      <th>Count Of Articles</th>\n",
       "      <th>Total Articles in the year</th>\n",
       "      <th>Percentage</th>\n",
       "    </tr>\n",
       "  </thead>\n",
       "  <tbody>\n",
       "    <tr>\n",
       "      <th>0</th>\n",
       "      <td>2022</td>\n",
       "      <td>Computaional Phenotype Model based on U09.9 in...</td>\n",
       "      <td>1</td>\n",
       "      <td>2</td>\n",
       "      <td>50.0</td>\n",
       "    </tr>\n",
       "    <tr>\n",
       "      <th>1</th>\n",
       "      <td>2022</td>\n",
       "      <td>Visit to Long COVID Clinic</td>\n",
       "      <td>1</td>\n",
       "      <td>2</td>\n",
       "      <td>50.0</td>\n",
       "    </tr>\n",
       "    <tr>\n",
       "      <th>2</th>\n",
       "      <td>2023</td>\n",
       "      <td>Computaional Phenotype Model based on U09.9 in...</td>\n",
       "      <td>1</td>\n",
       "      <td>8</td>\n",
       "      <td>12.5</td>\n",
       "    </tr>\n",
       "    <tr>\n",
       "      <th>3</th>\n",
       "      <td>2023</td>\n",
       "      <td>ICD-10 : U09.9</td>\n",
       "      <td>4</td>\n",
       "      <td>8</td>\n",
       "      <td>50.0</td>\n",
       "    </tr>\n",
       "    <tr>\n",
       "      <th>4</th>\n",
       "      <td>2023</td>\n",
       "      <td>ICD-10 : U09.9, ICD-10 : B94.8</td>\n",
       "      <td>1</td>\n",
       "      <td>8</td>\n",
       "      <td>12.5</td>\n",
       "    </tr>\n",
       "    <tr>\n",
       "      <th>5</th>\n",
       "      <td>2023</td>\n",
       "      <td>ICD-10 : U09.9, ICD-10 : B94.8, Visit to Long ...</td>\n",
       "      <td>1</td>\n",
       "      <td>8</td>\n",
       "      <td>12.5</td>\n",
       "    </tr>\n",
       "    <tr>\n",
       "      <th>6</th>\n",
       "      <td>2023</td>\n",
       "      <td>Visit to Long COVID Clinic</td>\n",
       "      <td>1</td>\n",
       "      <td>8</td>\n",
       "      <td>12.5</td>\n",
       "    </tr>\n",
       "    <tr>\n",
       "      <th>7</th>\n",
       "      <td>2024</td>\n",
       "      <td>ICD-10 : U09.9</td>\n",
       "      <td>4</td>\n",
       "      <td>10</td>\n",
       "      <td>40.0</td>\n",
       "    </tr>\n",
       "    <tr>\n",
       "      <th>8</th>\n",
       "      <td>2024</td>\n",
       "      <td>ICD-10 : U09.9, Computaional Phenotype Model b...</td>\n",
       "      <td>1</td>\n",
       "      <td>10</td>\n",
       "      <td>10.0</td>\n",
       "    </tr>\n",
       "    <tr>\n",
       "      <th>9</th>\n",
       "      <td>2024</td>\n",
       "      <td>ICD-10 : U09.9, ICD-10 : B94.8</td>\n",
       "      <td>3</td>\n",
       "      <td>10</td>\n",
       "      <td>30.0</td>\n",
       "    </tr>\n",
       "    <tr>\n",
       "      <th>10</th>\n",
       "      <td>2024</td>\n",
       "      <td>ICD-10 : U09.9, ICD-10 : B94.8, Visit to Long ...</td>\n",
       "      <td>1</td>\n",
       "      <td>10</td>\n",
       "      <td>10.0</td>\n",
       "    </tr>\n",
       "    <tr>\n",
       "      <th>11</th>\n",
       "      <td>2024</td>\n",
       "      <td>ICD-10 : U09.9, Visit to Long COVID Clinic</td>\n",
       "      <td>1</td>\n",
       "      <td>10</td>\n",
       "      <td>10.0</td>\n",
       "    </tr>\n",
       "    <tr>\n",
       "      <th>12</th>\n",
       "      <td>2025</td>\n",
       "      <td>NLP on EHR reports</td>\n",
       "      <td>1</td>\n",
       "      <td>1</td>\n",
       "      <td>100.0</td>\n",
       "    </tr>\n",
       "  </tbody>\n",
       "</table>\n",
       "</div>"
      ],
      "text/plain": [
       "    published_year                                        definitions  \\\n",
       "0             2022  Computaional Phenotype Model based on U09.9 in...   \n",
       "1             2022                         Visit to Long COVID Clinic   \n",
       "2             2023  Computaional Phenotype Model based on U09.9 in...   \n",
       "3             2023                                     ICD-10 : U09.9   \n",
       "4             2023                     ICD-10 : U09.9, ICD-10 : B94.8   \n",
       "5             2023  ICD-10 : U09.9, ICD-10 : B94.8, Visit to Long ...   \n",
       "6             2023                         Visit to Long COVID Clinic   \n",
       "7             2024                                     ICD-10 : U09.9   \n",
       "8             2024  ICD-10 : U09.9, Computaional Phenotype Model b...   \n",
       "9             2024                     ICD-10 : U09.9, ICD-10 : B94.8   \n",
       "10            2024  ICD-10 : U09.9, ICD-10 : B94.8, Visit to Long ...   \n",
       "11            2024        ICD-10 : U09.9, Visit to Long COVID Clinic    \n",
       "12            2025                                 NLP on EHR reports   \n",
       "\n",
       "    Count Of Articles  Total Articles in the year  Percentage  \n",
       "0                   1                           2        50.0  \n",
       "1                   1                           2        50.0  \n",
       "2                   1                           8        12.5  \n",
       "3                   4                           8        50.0  \n",
       "4                   1                           8        12.5  \n",
       "5                   1                           8        12.5  \n",
       "6                   1                           8        12.5  \n",
       "7                   4                          10        40.0  \n",
       "8                   1                          10        10.0  \n",
       "9                   3                          10        30.0  \n",
       "10                  1                          10        10.0  \n",
       "11                  1                          10        10.0  \n",
       "12                  1                           1       100.0  "
      ]
     },
     "execution_count": 9,
     "metadata": {},
     "output_type": "execute_result"
    }
   ],
   "source": [
    "pdata[\"Percentage\"]= pdata[\"Count Of Articles\"] / pdata[\"Total Articles in the year\"]*100\n",
    "pdata"
   ]
  },
  {
   "cell_type": "code",
   "execution_count": 10,
   "id": "89ab7683-6e56-4d1e-9dd8-397977c18929",
   "metadata": {},
   "outputs": [],
   "source": [
    "fig = px.bar(data_frame= pdata, x=\"published_year\", y=\"Percentage\", barmode = \"stack\", color=\"definitions\"\n",
    "            , hover_name= 'definitions', height=500, width=1000, template='plotly_white')\n",
    "fig.layout.xaxis.title = \"Publication Year\"\n",
    "fig.layout.yaxis.title = \"Percentage of Articles with Defintions\"\n",
    "fig.layout.legend.title = \" Defintions\"\n"
   ]
  },
  {
   "cell_type": "code",
   "execution_count": 11,
   "id": "77789ca0-64ae-443c-a619-580ae40b5cea",
   "metadata": {},
   "outputs": [
    {
     "data": {
      "application/vnd.plotly.v1+json": {
       "config": {
        "plotlyServerURL": "https://plot.ly"
       },
       "data": [
        {
         "hovertemplate": "<b>%{hovertext}</b><br><br>definitions=Computaional Phenotype Model based on U09.9 indicator<br>published_year=%{x}<br>Percentage=%{y}<extra></extra>",
         "hovertext": [
          "Computaional Phenotype Model based on U09.9 indicator",
          "Computaional Phenotype Model based on U09.9 indicator"
         ],
         "legendgroup": "Computaional Phenotype Model based on U09.9 indicator",
         "marker": {
          "color": "#636efa",
          "pattern": {
           "shape": ""
          }
         },
         "name": "Computaional Phenotype Model based on U09.9 indicator",
         "orientation": "v",
         "showlegend": true,
         "textposition": "auto",
         "type": "bar",
         "x": {
          "bdata": "5gfnBw==",
          "dtype": "i2"
         },
         "xaxis": "x",
         "y": {
          "bdata": "AAAAAAAASUAAAAAAAAApQA==",
          "dtype": "f8"
         },
         "yaxis": "y"
        },
        {
         "hovertemplate": "<b>%{hovertext}</b><br><br>definitions=Visit to Long COVID Clinic<br>published_year=%{x}<br>Percentage=%{y}<extra></extra>",
         "hovertext": [
          "Visit to Long COVID Clinic",
          "Visit to Long COVID Clinic"
         ],
         "legendgroup": "Visit to Long COVID Clinic",
         "marker": {
          "color": "#EF553B",
          "pattern": {
           "shape": ""
          }
         },
         "name": "Visit to Long COVID Clinic",
         "orientation": "v",
         "showlegend": true,
         "textposition": "auto",
         "type": "bar",
         "x": {
          "bdata": "5gfnBw==",
          "dtype": "i2"
         },
         "xaxis": "x",
         "y": {
          "bdata": "AAAAAAAASUAAAAAAAAApQA==",
          "dtype": "f8"
         },
         "yaxis": "y"
        },
        {
         "hovertemplate": "<b>%{hovertext}</b><br><br>definitions=ICD-10 : U09.9<br>published_year=%{x}<br>Percentage=%{y}<extra></extra>",
         "hovertext": [
          "ICD-10 : U09.9",
          "ICD-10 : U09.9"
         ],
         "legendgroup": "ICD-10 : U09.9",
         "marker": {
          "color": "#00cc96",
          "pattern": {
           "shape": ""
          }
         },
         "name": "ICD-10 : U09.9",
         "orientation": "v",
         "showlegend": true,
         "textposition": "auto",
         "type": "bar",
         "x": {
          "bdata": "5wfoBw==",
          "dtype": "i2"
         },
         "xaxis": "x",
         "y": {
          "bdata": "AAAAAAAASUAAAAAAAABEQA==",
          "dtype": "f8"
         },
         "yaxis": "y"
        },
        {
         "hovertemplate": "<b>%{hovertext}</b><br><br>definitions=ICD-10 : U09.9, ICD-10 : B94.8<br>published_year=%{x}<br>Percentage=%{y}<extra></extra>",
         "hovertext": [
          "ICD-10 : U09.9, ICD-10 : B94.8",
          "ICD-10 : U09.9, ICD-10 : B94.8"
         ],
         "legendgroup": "ICD-10 : U09.9, ICD-10 : B94.8",
         "marker": {
          "color": "#ab63fa",
          "pattern": {
           "shape": ""
          }
         },
         "name": "ICD-10 : U09.9, ICD-10 : B94.8",
         "orientation": "v",
         "showlegend": true,
         "textposition": "auto",
         "type": "bar",
         "x": {
          "bdata": "5wfoBw==",
          "dtype": "i2"
         },
         "xaxis": "x",
         "y": {
          "bdata": "AAAAAAAAKUAAAAAAAAA+QA==",
          "dtype": "f8"
         },
         "yaxis": "y"
        },
        {
         "hovertemplate": "<b>%{hovertext}</b><br><br>definitions=ICD-10 : U09.9, ICD-10 : B94.8, Visit to Long COVID Clinic<br>published_year=%{x}<br>Percentage=%{y}<extra></extra>",
         "hovertext": [
          "ICD-10 : U09.9, ICD-10 : B94.8, Visit to Long COVID Clinic",
          "ICD-10 : U09.9, ICD-10 : B94.8, Visit to Long COVID Clinic"
         ],
         "legendgroup": "ICD-10 : U09.9, ICD-10 : B94.8, Visit to Long COVID Clinic",
         "marker": {
          "color": "#FFA15A",
          "pattern": {
           "shape": ""
          }
         },
         "name": "ICD-10 : U09.9, ICD-10 : B94.8, Visit to Long COVID Clinic",
         "orientation": "v",
         "showlegend": true,
         "textposition": "auto",
         "type": "bar",
         "x": {
          "bdata": "5wfoBw==",
          "dtype": "i2"
         },
         "xaxis": "x",
         "y": {
          "bdata": "AAAAAAAAKUAAAAAAAAAkQA==",
          "dtype": "f8"
         },
         "yaxis": "y"
        },
        {
         "hovertemplate": "<b>%{hovertext}</b><br><br>definitions=ICD-10 : U09.9, Computaional Phenotype Model based on U09.9 indicator<br>published_year=%{x}<br>Percentage=%{y}<extra></extra>",
         "hovertext": [
          "ICD-10 : U09.9, Computaional Phenotype Model based on U09.9 indicator"
         ],
         "legendgroup": "ICD-10 : U09.9, Computaional Phenotype Model based on U09.9 indicator",
         "marker": {
          "color": "#19d3f3",
          "pattern": {
           "shape": ""
          }
         },
         "name": "ICD-10 : U09.9, Computaional Phenotype Model based on U09.9 indicator",
         "orientation": "v",
         "showlegend": true,
         "textposition": "auto",
         "type": "bar",
         "x": {
          "bdata": "6Ac=",
          "dtype": "i2"
         },
         "xaxis": "x",
         "y": {
          "bdata": "AAAAAAAAJEA=",
          "dtype": "f8"
         },
         "yaxis": "y"
        },
        {
         "hovertemplate": "<b>%{hovertext}</b><br><br>definitions=ICD-10 : U09.9, Visit to Long COVID Clinic <br>published_year=%{x}<br>Percentage=%{y}<extra></extra>",
         "hovertext": [
          "ICD-10 : U09.9, Visit to Long COVID Clinic "
         ],
         "legendgroup": "ICD-10 : U09.9, Visit to Long COVID Clinic ",
         "marker": {
          "color": "#FF6692",
          "pattern": {
           "shape": ""
          }
         },
         "name": "ICD-10 : U09.9, Visit to Long COVID Clinic ",
         "orientation": "v",
         "showlegend": true,
         "textposition": "auto",
         "type": "bar",
         "x": {
          "bdata": "6Ac=",
          "dtype": "i2"
         },
         "xaxis": "x",
         "y": {
          "bdata": "AAAAAAAAJEA=",
          "dtype": "f8"
         },
         "yaxis": "y"
        },
        {
         "hovertemplate": "<b>%{hovertext}</b><br><br>definitions=NLP on EHR reports<br>published_year=%{x}<br>Percentage=%{y}<extra></extra>",
         "hovertext": [
          "NLP on EHR reports"
         ],
         "legendgroup": "NLP on EHR reports",
         "marker": {
          "color": "#B6E880",
          "pattern": {
           "shape": ""
          }
         },
         "name": "NLP on EHR reports",
         "orientation": "v",
         "showlegend": true,
         "textposition": "auto",
         "type": "bar",
         "x": {
          "bdata": "6Qc=",
          "dtype": "i2"
         },
         "xaxis": "x",
         "y": {
          "bdata": "AAAAAAAAWUA=",
          "dtype": "f8"
         },
         "yaxis": "y"
        }
       ],
       "layout": {
        "barmode": "stack",
        "height": 500,
        "legend": {
         "title": {
          "text": " Defintions"
         },
         "tracegroupgap": 0
        },
        "margin": {
         "t": 60
        },
        "template": {
         "data": {
          "bar": [
           {
            "error_x": {
             "color": "#2a3f5f"
            },
            "error_y": {
             "color": "#2a3f5f"
            },
            "marker": {
             "line": {
              "color": "white",
              "width": 0.5
             },
             "pattern": {
              "fillmode": "overlay",
              "size": 10,
              "solidity": 0.2
             }
            },
            "type": "bar"
           }
          ],
          "barpolar": [
           {
            "marker": {
             "line": {
              "color": "white",
              "width": 0.5
             },
             "pattern": {
              "fillmode": "overlay",
              "size": 10,
              "solidity": 0.2
             }
            },
            "type": "barpolar"
           }
          ],
          "carpet": [
           {
            "aaxis": {
             "endlinecolor": "#2a3f5f",
             "gridcolor": "#C8D4E3",
             "linecolor": "#C8D4E3",
             "minorgridcolor": "#C8D4E3",
             "startlinecolor": "#2a3f5f"
            },
            "baxis": {
             "endlinecolor": "#2a3f5f",
             "gridcolor": "#C8D4E3",
             "linecolor": "#C8D4E3",
             "minorgridcolor": "#C8D4E3",
             "startlinecolor": "#2a3f5f"
            },
            "type": "carpet"
           }
          ],
          "choropleth": [
           {
            "colorbar": {
             "outlinewidth": 0,
             "ticks": ""
            },
            "type": "choropleth"
           }
          ],
          "contour": [
           {
            "colorbar": {
             "outlinewidth": 0,
             "ticks": ""
            },
            "colorscale": [
             [
              0,
              "#0d0887"
             ],
             [
              0.1111111111111111,
              "#46039f"
             ],
             [
              0.2222222222222222,
              "#7201a8"
             ],
             [
              0.3333333333333333,
              "#9c179e"
             ],
             [
              0.4444444444444444,
              "#bd3786"
             ],
             [
              0.5555555555555556,
              "#d8576b"
             ],
             [
              0.6666666666666666,
              "#ed7953"
             ],
             [
              0.7777777777777778,
              "#fb9f3a"
             ],
             [
              0.8888888888888888,
              "#fdca26"
             ],
             [
              1,
              "#f0f921"
             ]
            ],
            "type": "contour"
           }
          ],
          "contourcarpet": [
           {
            "colorbar": {
             "outlinewidth": 0,
             "ticks": ""
            },
            "type": "contourcarpet"
           }
          ],
          "heatmap": [
           {
            "colorbar": {
             "outlinewidth": 0,
             "ticks": ""
            },
            "colorscale": [
             [
              0,
              "#0d0887"
             ],
             [
              0.1111111111111111,
              "#46039f"
             ],
             [
              0.2222222222222222,
              "#7201a8"
             ],
             [
              0.3333333333333333,
              "#9c179e"
             ],
             [
              0.4444444444444444,
              "#bd3786"
             ],
             [
              0.5555555555555556,
              "#d8576b"
             ],
             [
              0.6666666666666666,
              "#ed7953"
             ],
             [
              0.7777777777777778,
              "#fb9f3a"
             ],
             [
              0.8888888888888888,
              "#fdca26"
             ],
             [
              1,
              "#f0f921"
             ]
            ],
            "type": "heatmap"
           }
          ],
          "histogram": [
           {
            "marker": {
             "pattern": {
              "fillmode": "overlay",
              "size": 10,
              "solidity": 0.2
             }
            },
            "type": "histogram"
           }
          ],
          "histogram2d": [
           {
            "colorbar": {
             "outlinewidth": 0,
             "ticks": ""
            },
            "colorscale": [
             [
              0,
              "#0d0887"
             ],
             [
              0.1111111111111111,
              "#46039f"
             ],
             [
              0.2222222222222222,
              "#7201a8"
             ],
             [
              0.3333333333333333,
              "#9c179e"
             ],
             [
              0.4444444444444444,
              "#bd3786"
             ],
             [
              0.5555555555555556,
              "#d8576b"
             ],
             [
              0.6666666666666666,
              "#ed7953"
             ],
             [
              0.7777777777777778,
              "#fb9f3a"
             ],
             [
              0.8888888888888888,
              "#fdca26"
             ],
             [
              1,
              "#f0f921"
             ]
            ],
            "type": "histogram2d"
           }
          ],
          "histogram2dcontour": [
           {
            "colorbar": {
             "outlinewidth": 0,
             "ticks": ""
            },
            "colorscale": [
             [
              0,
              "#0d0887"
             ],
             [
              0.1111111111111111,
              "#46039f"
             ],
             [
              0.2222222222222222,
              "#7201a8"
             ],
             [
              0.3333333333333333,
              "#9c179e"
             ],
             [
              0.4444444444444444,
              "#bd3786"
             ],
             [
              0.5555555555555556,
              "#d8576b"
             ],
             [
              0.6666666666666666,
              "#ed7953"
             ],
             [
              0.7777777777777778,
              "#fb9f3a"
             ],
             [
              0.8888888888888888,
              "#fdca26"
             ],
             [
              1,
              "#f0f921"
             ]
            ],
            "type": "histogram2dcontour"
           }
          ],
          "mesh3d": [
           {
            "colorbar": {
             "outlinewidth": 0,
             "ticks": ""
            },
            "type": "mesh3d"
           }
          ],
          "parcoords": [
           {
            "line": {
             "colorbar": {
              "outlinewidth": 0,
              "ticks": ""
             }
            },
            "type": "parcoords"
           }
          ],
          "pie": [
           {
            "automargin": true,
            "type": "pie"
           }
          ],
          "scatter": [
           {
            "fillpattern": {
             "fillmode": "overlay",
             "size": 10,
             "solidity": 0.2
            },
            "type": "scatter"
           }
          ],
          "scatter3d": [
           {
            "line": {
             "colorbar": {
              "outlinewidth": 0,
              "ticks": ""
             }
            },
            "marker": {
             "colorbar": {
              "outlinewidth": 0,
              "ticks": ""
             }
            },
            "type": "scatter3d"
           }
          ],
          "scattercarpet": [
           {
            "marker": {
             "colorbar": {
              "outlinewidth": 0,
              "ticks": ""
             }
            },
            "type": "scattercarpet"
           }
          ],
          "scattergeo": [
           {
            "marker": {
             "colorbar": {
              "outlinewidth": 0,
              "ticks": ""
             }
            },
            "type": "scattergeo"
           }
          ],
          "scattergl": [
           {
            "marker": {
             "colorbar": {
              "outlinewidth": 0,
              "ticks": ""
             }
            },
            "type": "scattergl"
           }
          ],
          "scattermap": [
           {
            "marker": {
             "colorbar": {
              "outlinewidth": 0,
              "ticks": ""
             }
            },
            "type": "scattermap"
           }
          ],
          "scattermapbox": [
           {
            "marker": {
             "colorbar": {
              "outlinewidth": 0,
              "ticks": ""
             }
            },
            "type": "scattermapbox"
           }
          ],
          "scatterpolar": [
           {
            "marker": {
             "colorbar": {
              "outlinewidth": 0,
              "ticks": ""
             }
            },
            "type": "scatterpolar"
           }
          ],
          "scatterpolargl": [
           {
            "marker": {
             "colorbar": {
              "outlinewidth": 0,
              "ticks": ""
             }
            },
            "type": "scatterpolargl"
           }
          ],
          "scatterternary": [
           {
            "marker": {
             "colorbar": {
              "outlinewidth": 0,
              "ticks": ""
             }
            },
            "type": "scatterternary"
           }
          ],
          "surface": [
           {
            "colorbar": {
             "outlinewidth": 0,
             "ticks": ""
            },
            "colorscale": [
             [
              0,
              "#0d0887"
             ],
             [
              0.1111111111111111,
              "#46039f"
             ],
             [
              0.2222222222222222,
              "#7201a8"
             ],
             [
              0.3333333333333333,
              "#9c179e"
             ],
             [
              0.4444444444444444,
              "#bd3786"
             ],
             [
              0.5555555555555556,
              "#d8576b"
             ],
             [
              0.6666666666666666,
              "#ed7953"
             ],
             [
              0.7777777777777778,
              "#fb9f3a"
             ],
             [
              0.8888888888888888,
              "#fdca26"
             ],
             [
              1,
              "#f0f921"
             ]
            ],
            "type": "surface"
           }
          ],
          "table": [
           {
            "cells": {
             "fill": {
              "color": "#EBF0F8"
             },
             "line": {
              "color": "white"
             }
            },
            "header": {
             "fill": {
              "color": "#C8D4E3"
             },
             "line": {
              "color": "white"
             }
            },
            "type": "table"
           }
          ]
         },
         "layout": {
          "annotationdefaults": {
           "arrowcolor": "#2a3f5f",
           "arrowhead": 0,
           "arrowwidth": 1
          },
          "autotypenumbers": "strict",
          "coloraxis": {
           "colorbar": {
            "outlinewidth": 0,
            "ticks": ""
           }
          },
          "colorscale": {
           "diverging": [
            [
             0,
             "#8e0152"
            ],
            [
             0.1,
             "#c51b7d"
            ],
            [
             0.2,
             "#de77ae"
            ],
            [
             0.3,
             "#f1b6da"
            ],
            [
             0.4,
             "#fde0ef"
            ],
            [
             0.5,
             "#f7f7f7"
            ],
            [
             0.6,
             "#e6f5d0"
            ],
            [
             0.7,
             "#b8e186"
            ],
            [
             0.8,
             "#7fbc41"
            ],
            [
             0.9,
             "#4d9221"
            ],
            [
             1,
             "#276419"
            ]
           ],
           "sequential": [
            [
             0,
             "#0d0887"
            ],
            [
             0.1111111111111111,
             "#46039f"
            ],
            [
             0.2222222222222222,
             "#7201a8"
            ],
            [
             0.3333333333333333,
             "#9c179e"
            ],
            [
             0.4444444444444444,
             "#bd3786"
            ],
            [
             0.5555555555555556,
             "#d8576b"
            ],
            [
             0.6666666666666666,
             "#ed7953"
            ],
            [
             0.7777777777777778,
             "#fb9f3a"
            ],
            [
             0.8888888888888888,
             "#fdca26"
            ],
            [
             1,
             "#f0f921"
            ]
           ],
           "sequentialminus": [
            [
             0,
             "#0d0887"
            ],
            [
             0.1111111111111111,
             "#46039f"
            ],
            [
             0.2222222222222222,
             "#7201a8"
            ],
            [
             0.3333333333333333,
             "#9c179e"
            ],
            [
             0.4444444444444444,
             "#bd3786"
            ],
            [
             0.5555555555555556,
             "#d8576b"
            ],
            [
             0.6666666666666666,
             "#ed7953"
            ],
            [
             0.7777777777777778,
             "#fb9f3a"
            ],
            [
             0.8888888888888888,
             "#fdca26"
            ],
            [
             1,
             "#f0f921"
            ]
           ]
          },
          "colorway": [
           "#636efa",
           "#EF553B",
           "#00cc96",
           "#ab63fa",
           "#FFA15A",
           "#19d3f3",
           "#FF6692",
           "#B6E880",
           "#FF97FF",
           "#FECB52"
          ],
          "font": {
           "color": "#2a3f5f"
          },
          "geo": {
           "bgcolor": "white",
           "lakecolor": "white",
           "landcolor": "white",
           "showlakes": true,
           "showland": true,
           "subunitcolor": "#C8D4E3"
          },
          "hoverlabel": {
           "align": "left"
          },
          "hovermode": "closest",
          "mapbox": {
           "style": "light"
          },
          "paper_bgcolor": "white",
          "plot_bgcolor": "white",
          "polar": {
           "angularaxis": {
            "gridcolor": "#EBF0F8",
            "linecolor": "#EBF0F8",
            "ticks": ""
           },
           "bgcolor": "white",
           "radialaxis": {
            "gridcolor": "#EBF0F8",
            "linecolor": "#EBF0F8",
            "ticks": ""
           }
          },
          "scene": {
           "xaxis": {
            "backgroundcolor": "white",
            "gridcolor": "#DFE8F3",
            "gridwidth": 2,
            "linecolor": "#EBF0F8",
            "showbackground": true,
            "ticks": "",
            "zerolinecolor": "#EBF0F8"
           },
           "yaxis": {
            "backgroundcolor": "white",
            "gridcolor": "#DFE8F3",
            "gridwidth": 2,
            "linecolor": "#EBF0F8",
            "showbackground": true,
            "ticks": "",
            "zerolinecolor": "#EBF0F8"
           },
           "zaxis": {
            "backgroundcolor": "white",
            "gridcolor": "#DFE8F3",
            "gridwidth": 2,
            "linecolor": "#EBF0F8",
            "showbackground": true,
            "ticks": "",
            "zerolinecolor": "#EBF0F8"
           }
          },
          "shapedefaults": {
           "line": {
            "color": "#2a3f5f"
           }
          },
          "ternary": {
           "aaxis": {
            "gridcolor": "#DFE8F3",
            "linecolor": "#A2B1C6",
            "ticks": ""
           },
           "baxis": {
            "gridcolor": "#DFE8F3",
            "linecolor": "#A2B1C6",
            "ticks": ""
           },
           "bgcolor": "white",
           "caxis": {
            "gridcolor": "#DFE8F3",
            "linecolor": "#A2B1C6",
            "ticks": ""
           }
          },
          "title": {
           "x": 0.05
          },
          "xaxis": {
           "automargin": true,
           "gridcolor": "#EBF0F8",
           "linecolor": "#EBF0F8",
           "ticks": "",
           "title": {
            "standoff": 15
           },
           "zerolinecolor": "#EBF0F8",
           "zerolinewidth": 2
          },
          "yaxis": {
           "automargin": true,
           "gridcolor": "#EBF0F8",
           "linecolor": "#EBF0F8",
           "ticks": "",
           "title": {
            "standoff": 15
           },
           "zerolinecolor": "#EBF0F8",
           "zerolinewidth": 2
          }
         }
        },
        "width": 1000,
        "xaxis": {
         "anchor": "y",
         "domain": [
          0,
          1
         ],
         "title": {
          "text": "Publication Year"
         }
        },
        "yaxis": {
         "anchor": "x",
         "domain": [
          0,
          1
         ],
         "title": {
          "text": "Percentage of Articles with Defintions"
         }
        }
       }
      },
      "image/png": "[encoded data removed]"
     },
     "metadata": {},
     "output_type": "display_data"
    }
   ],
   "source": [
    "fig.show()"
   ]
  },
  {
   "cell_type": "code",
   "execution_count": 12,
   "id": "30854d66-c386-4737-b509-7ea18a2eed4f",
   "metadata": {},
   "outputs": [],
   "source": [
    "profile_report = ProfileReport(pdata, title = \"Group Data Profiling\")"
   ]
  },
  {
   "cell_type": "code",
   "execution_count": 13,
   "id": "022adce9-74a7-40a9-b4d1-a00b56a62396",
   "metadata": {},
   "outputs": [
    {
     "name": "stderr",
     "output_type": "stream",
     "text": [
      "Summarize dataset:  20%|▏| 2/10 [00:00<00:00, 67.43it/s, Describe variable: Perc\n",
      "100%|██████████████████████████████████████████| 5/5 [00:00<00:00, 98457.84it/s]\u001b[A\n",
      "Summarize dataset: 100%|█████████████| 15/15 [00:00<00:00, 93.13it/s, Completed]\n",
      "Generate report structure: 100%|██████████████████| 1/1 [00:00<00:00,  2.31it/s]\n",
      "Render HTML: 100%|████████████████████████████████| 1/1 [00:00<00:00,  8.44it/s]\n",
      "Export report to file: 100%|█████████████████████| 1/1 [00:00<00:00, 654.34it/s]\n"
     ]
    }
   ],
   "source": [
    "profile_report.to_file(\"Outputs/Group Data Profiling.html\")"
   ]
  }
 ],
 "metadata": {
  "kernelspec": {
   "display_name": "Python 3 (ipykernel)",
   "language": "python",
   "name": "python3"
  },
  "language_info": {
   "codemirror_mode": {
    "name": "ipython",
    "version": 3
   },
   "file_extension": ".py",
   "mimetype": "text/x-python",
   "name": "python",
   "nbconvert_exporter": "python",
   "pygments_lexer": "ipython3",
   "version": "3.12.0"
  }
 },
 "nbformat": 4,
 "nbformat_minor": 5
}
