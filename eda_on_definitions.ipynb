{
 "cells": [
  {
   "cell_type": "code",
   "execution_count": 41,
   "id": "959abe9b-177c-41aa-af63-fe9f7afd10e0",
   "metadata": {},
   "outputs": [],
   "source": [
    "import pandas as pd\n",
    "from ydata_profiling import ProfileReport\n",
    "from wordcloud import WordCloud\n",
    "import matplotlib.pyplot as plt\n",
    "import seaborn as sns\n",
    "import plotly.express as px\n",
    "\n",
    "%matplotlib inline\n"
   ]
  },
  {
   "cell_type": "code",
   "execution_count": 21,
   "id": "2587cf76-4199-4dd9-b453-bb78ad4d1c43",
   "metadata": {},
   "outputs": [
    {
     "data": {
      "text/html": [
       "<div>\n",
       "<style scoped>\n",
       "    .dataframe tbody tr th:only-of-type {\n",
       "        vertical-align: middle;\n",
       "    }\n",
       "\n",
       "    .dataframe tbody tr th {\n",
       "        vertical-align: top;\n",
       "    }\n",
       "\n",
       "    .dataframe thead th {\n",
       "        text-align: right;\n",
       "    }\n",
       "</style>\n",
       "<table border=\"1\" class=\"dataframe\">\n",
       "  <thead>\n",
       "    <tr style=\"text-align: right;\">\n",
       "      <th></th>\n",
       "      <th>PMID</th>\n",
       "      <th>Title</th>\n",
       "      <th>Verbatim Definition</th>\n",
       "      <th>Definition A</th>\n",
       "      <th>Definition B</th>\n",
       "      <th>Definition C</th>\n",
       "      <th>Definition D</th>\n",
       "      <th>Definition E</th>\n",
       "      <th>published_year</th>\n",
       "      <th>study_year</th>\n",
       "      <th>definitions</th>\n",
       "    </tr>\n",
       "  </thead>\n",
       "  <tbody>\n",
       "    <tr>\n",
       "      <th>0</th>\n",
       "      <td>35589549</td>\n",
       "      <td>Identifying who has long COVID in the USA: a m...</td>\n",
       "      <td>However, three N3C sites provided lists of loc...</td>\n",
       "      <td>NaN</td>\n",
       "      <td>NaN</td>\n",
       "      <td>Visit to Long COVID Clinic</td>\n",
       "      <td>NaN</td>\n",
       "      <td>NaN</td>\n",
       "      <td>2022</td>\n",
       "      <td>NaN</td>\n",
       "      <td>Visit to Long COVID Clinic, , ,</td>\n",
       "    </tr>\n",
       "    <tr>\n",
       "      <th>1</th>\n",
       "      <td>36415203</td>\n",
       "      <td>Vital Measurements of Hospitalized COVID-19 Pa...</td>\n",
       "      <td>Due to limited documentation of Long COVID, we...</td>\n",
       "      <td>NaN</td>\n",
       "      <td>NaN</td>\n",
       "      <td>NaN</td>\n",
       "      <td>Computaional Phenotype Model based on U09.9 in...</td>\n",
       "      <td>NaN</td>\n",
       "      <td>2022</td>\n",
       "      <td>NaN</td>\n",
       "      <td>Computaional Phenotype Model based on U09.9 in...</td>\n",
       "    </tr>\n",
       "    <tr>\n",
       "      <th>2</th>\n",
       "      <td>36563487</td>\n",
       "      <td>Generalisable long COVID subtypes: findings fr...</td>\n",
       "      <td>Patients with U09.9 (Long COVID) diagnosis</td>\n",
       "      <td>ICD-10 : U09.9</td>\n",
       "      <td>NaN</td>\n",
       "      <td>NaN</td>\n",
       "      <td>NaN</td>\n",
       "      <td>NaN</td>\n",
       "      <td>2023</td>\n",
       "      <td>The data freeze date was August 10, 2022</td>\n",
       "      <td>ICD-10 : U09.9 , , ,</td>\n",
       "    </tr>\n",
       "    <tr>\n",
       "      <th>3</th>\n",
       "      <td>36793086</td>\n",
       "      <td>Coding long COVID: characterizing a new diseas...</td>\n",
       "      <td>In this retrospective cohort study, we defined...</td>\n",
       "      <td>ICD-10 : U09.9</td>\n",
       "      <td>NaN</td>\n",
       "      <td>NaN</td>\n",
       "      <td>NaN</td>\n",
       "      <td>NaN</td>\n",
       "      <td>2023</td>\n",
       "      <td>NaN</td>\n",
       "      <td>ICD-10 : U09.9 , Date , ,</td>\n",
       "    </tr>\n",
       "    <tr>\n",
       "      <th>4</th>\n",
       "      <td>3716633</td>\n",
       "      <td>Risk of post-acute sequelae of SARS-CoV-2 infe...</td>\n",
       "      <td>Adult patients with all of the following withi...</td>\n",
       "      <td>NaN</td>\n",
       "      <td>NaN</td>\n",
       "      <td>Visit to Long COVID Clinic</td>\n",
       "      <td>NaN</td>\n",
       "      <td>NaN</td>\n",
       "      <td>2023</td>\n",
       "      <td>2020/03/01 - 2022/02/28</td>\n",
       "      <td>Visit to Long COVID Clinic, , ,</td>\n",
       "    </tr>\n",
       "  </tbody>\n",
       "</table>\n",
       "</div>"
      ],
      "text/plain": [
       "       PMID                                              Title  \\\n",
       "0  35589549  Identifying who has long COVID in the USA: a m...   \n",
       "1  36415203  Vital Measurements of Hospitalized COVID-19 Pa...   \n",
       "2  36563487  Generalisable long COVID subtypes: findings fr...   \n",
       "3  36793086  Coding long COVID: characterizing a new diseas...   \n",
       "4   3716633  Risk of post-acute sequelae of SARS-CoV-2 infe...   \n",
       "\n",
       "                                Verbatim Definition      Definition A  \\\n",
       "0  However, three N3C sites provided lists of loc...              NaN   \n",
       "1  Due to limited documentation of Long COVID, we...              NaN   \n",
       "2         Patients with U09.9 (Long COVID) diagnosis  ICD-10 : U09.9    \n",
       "3  In this retrospective cohort study, we defined...  ICD-10 : U09.9    \n",
       "4  Adult patients with all of the following withi...              NaN   \n",
       "\n",
       "  Definition B                Definition C  \\\n",
       "0          NaN  Visit to Long COVID Clinic   \n",
       "1          NaN                         NaN   \n",
       "2          NaN                         NaN   \n",
       "3          NaN                         NaN   \n",
       "4          NaN  Visit to Long COVID Clinic   \n",
       "\n",
       "                                        Definition D Definition E  \\\n",
       "0                                                NaN          NaN   \n",
       "1  Computaional Phenotype Model based on U09.9 in...          NaN   \n",
       "2                                                NaN          NaN   \n",
       "3                                                NaN          NaN   \n",
       "4                                                NaN          NaN   \n",
       "\n",
       "   published_year                                study_year  \\\n",
       "0            2022                                       NaN   \n",
       "1            2022                                       NaN   \n",
       "2            2023  The data freeze date was August 10, 2022   \n",
       "3            2023                                       NaN   \n",
       "4            2023                   2020/03/01 - 2022/02/28   \n",
       "\n",
       "                                         definitions  \n",
       "0                   Visit to Long COVID Clinic, , ,   \n",
       "1  Computaional Phenotype Model based on U09.9 in...  \n",
       "2                              ICD-10 : U09.9 , , ,   \n",
       "3                         ICD-10 : U09.9 , Date , ,   \n",
       "4                   Visit to Long COVID Clinic, , ,   "
      ]
     },
     "execution_count": 21,
     "metadata": {},
     "output_type": "execute_result"
    }
   ],
   "source": [
    "df = pd.read_csv(\"final_vocab.csv\")\n",
    "df.head()"
   ]
  },
  {
   "cell_type": "code",
   "execution_count": 13,
   "id": "27719320-a691-4562-91ec-f39013cb47e2",
   "metadata": {},
   "outputs": [
    {
     "data": {
      "text/plain": [
       "PMID                      int64\n",
       "Title                    object\n",
       "Verbatim Definition      object\n",
       "Definition A             object\n",
       "Definition B             object\n",
       "Definiion C              object\n",
       "Definiion D             float64\n",
       "published_year            int64\n",
       "study_year               object\n",
       "definitions              object\n",
       "dtype: object"
      ]
     },
     "execution_count": 13,
     "metadata": {},
     "output_type": "execute_result"
    }
   ],
   "source": [
    "df.dtypes"
   ]
  },
  {
   "cell_type": "code",
   "execution_count": 24,
   "id": "9e543f1f-0584-42cc-ba0f-92f152072e18",
   "metadata": {},
   "outputs": [
    {
     "data": {
      "text/html": [
       "<div>\n",
       "<style scoped>\n",
       "    .dataframe tbody tr th:only-of-type {\n",
       "        vertical-align: middle;\n",
       "    }\n",
       "\n",
       "    .dataframe tbody tr th {\n",
       "        vertical-align: top;\n",
       "    }\n",
       "\n",
       "    .dataframe thead th {\n",
       "        text-align: right;\n",
       "    }\n",
       "</style>\n",
       "<table border=\"1\" class=\"dataframe\">\n",
       "  <thead>\n",
       "    <tr style=\"text-align: right;\">\n",
       "      <th></th>\n",
       "      <th>PMID</th>\n",
       "      <th>Title</th>\n",
       "      <th>Verbatim Definition</th>\n",
       "      <th>Definition A</th>\n",
       "      <th>Definition B</th>\n",
       "      <th>Definition C</th>\n",
       "      <th>Definition D</th>\n",
       "      <th>Definition E</th>\n",
       "      <th>published_year</th>\n",
       "      <th>study_year</th>\n",
       "      <th>definitions</th>\n",
       "    </tr>\n",
       "  </thead>\n",
       "  <tbody>\n",
       "    <tr>\n",
       "      <th>0</th>\n",
       "      <td>35589549</td>\n",
       "      <td>Identifying who has long COVID in the USA: a m...</td>\n",
       "      <td>However, three N3C sites provided lists of loc...</td>\n",
       "      <td>NaN</td>\n",
       "      <td>NaN</td>\n",
       "      <td>Visit to Long COVID Clinic</td>\n",
       "      <td>NaN</td>\n",
       "      <td>NaN</td>\n",
       "      <td>2022</td>\n",
       "      <td>NaN</td>\n",
       "      <td>, , Visit to Long COVID Clinic, ,</td>\n",
       "    </tr>\n",
       "    <tr>\n",
       "      <th>1</th>\n",
       "      <td>36415203</td>\n",
       "      <td>Vital Measurements of Hospitalized COVID-19 Pa...</td>\n",
       "      <td>Due to limited documentation of Long COVID, we...</td>\n",
       "      <td>NaN</td>\n",
       "      <td>NaN</td>\n",
       "      <td>NaN</td>\n",
       "      <td>Computaional Phenotype Model based on U09.9 in...</td>\n",
       "      <td>NaN</td>\n",
       "      <td>2022</td>\n",
       "      <td>NaN</td>\n",
       "      <td>, , , Computaional Phenotype Model based on U0...</td>\n",
       "    </tr>\n",
       "    <tr>\n",
       "      <th>2</th>\n",
       "      <td>36563487</td>\n",
       "      <td>Generalisable long COVID subtypes: findings fr...</td>\n",
       "      <td>Patients with U09.9 (Long COVID) diagnosis</td>\n",
       "      <td>ICD-10 : U09.9</td>\n",
       "      <td>NaN</td>\n",
       "      <td>NaN</td>\n",
       "      <td>NaN</td>\n",
       "      <td>NaN</td>\n",
       "      <td>2023</td>\n",
       "      <td>The data freeze date was August 10, 2022</td>\n",
       "      <td>ICD-10 : U09.9 , , , ,</td>\n",
       "    </tr>\n",
       "    <tr>\n",
       "      <th>3</th>\n",
       "      <td>36793086</td>\n",
       "      <td>Coding long COVID: characterizing a new diseas...</td>\n",
       "      <td>In this retrospective cohort study, we defined...</td>\n",
       "      <td>ICD-10 : U09.9</td>\n",
       "      <td>NaN</td>\n",
       "      <td>NaN</td>\n",
       "      <td>NaN</td>\n",
       "      <td>NaN</td>\n",
       "      <td>2023</td>\n",
       "      <td>NaN</td>\n",
       "      <td>ICD-10 : U09.9 , , , ,</td>\n",
       "    </tr>\n",
       "    <tr>\n",
       "      <th>4</th>\n",
       "      <td>3716633</td>\n",
       "      <td>Risk of post-acute sequelae of SARS-CoV-2 infe...</td>\n",
       "      <td>Adult patients with all of the following withi...</td>\n",
       "      <td>NaN</td>\n",
       "      <td>NaN</td>\n",
       "      <td>Visit to Long COVID Clinic</td>\n",
       "      <td>NaN</td>\n",
       "      <td>NaN</td>\n",
       "      <td>2023</td>\n",
       "      <td>2020/03/01 - 2022/02/28</td>\n",
       "      <td>, , Visit to Long COVID Clinic, ,</td>\n",
       "    </tr>\n",
       "  </tbody>\n",
       "</table>\n",
       "</div>"
      ],
      "text/plain": [
       "       PMID                                              Title  \\\n",
       "0  35589549  Identifying who has long COVID in the USA: a m...   \n",
       "1  36415203  Vital Measurements of Hospitalized COVID-19 Pa...   \n",
       "2  36563487  Generalisable long COVID subtypes: findings fr...   \n",
       "3  36793086  Coding long COVID: characterizing a new diseas...   \n",
       "4   3716633  Risk of post-acute sequelae of SARS-CoV-2 infe...   \n",
       "\n",
       "                                Verbatim Definition      Definition A  \\\n",
       "0  However, three N3C sites provided lists of loc...              NaN   \n",
       "1  Due to limited documentation of Long COVID, we...              NaN   \n",
       "2         Patients with U09.9 (Long COVID) diagnosis  ICD-10 : U09.9    \n",
       "3  In this retrospective cohort study, we defined...  ICD-10 : U09.9    \n",
       "4  Adult patients with all of the following withi...              NaN   \n",
       "\n",
       "  Definition B                Definition C  \\\n",
       "0          NaN  Visit to Long COVID Clinic   \n",
       "1          NaN                         NaN   \n",
       "2          NaN                         NaN   \n",
       "3          NaN                         NaN   \n",
       "4          NaN  Visit to Long COVID Clinic   \n",
       "\n",
       "                                        Definition D Definition E  \\\n",
       "0                                                NaN          NaN   \n",
       "1  Computaional Phenotype Model based on U09.9 in...          NaN   \n",
       "2                                                NaN          NaN   \n",
       "3                                                NaN          NaN   \n",
       "4                                                NaN          NaN   \n",
       "\n",
       "   published_year                                study_year  \\\n",
       "0            2022                                       NaN   \n",
       "1            2022                                       NaN   \n",
       "2            2023  The data freeze date was August 10, 2022   \n",
       "3            2023                                       NaN   \n",
       "4            2023                   2020/03/01 - 2022/02/28   \n",
       "\n",
       "                                         definitions  \n",
       "0                 , , Visit to Long COVID Clinic, ,   \n",
       "1  , , , Computaional Phenotype Model based on U0...  \n",
       "2                            ICD-10 : U09.9 , , , ,   \n",
       "3                            ICD-10 : U09.9 , , , ,   \n",
       "4                 , , Visit to Long COVID Clinic, ,   "
      ]
     },
     "execution_count": 24,
     "metadata": {},
     "output_type": "execute_result"
    }
   ],
   "source": [
    "df[\"definitions\"] = df[\"Definition A\"].fillna('') + ', ' + df[\"Definition B\"].fillna('') + ', '+df[\"Definition C\"].fillna('') + ', '+df[\"Definition D\"].fillna('')+', '+df[\"Definition E\"].fillna('')\n",
    "df.head()"
   ]
  },
  {
   "cell_type": "code",
   "execution_count": 30,
   "id": "7cfa3203-54d7-4757-8cf3-97e3787a4f77",
   "metadata": {},
   "outputs": [],
   "source": [
    "profile = ProfileReport(df, title ='EDA on Vocab Data')"
   ]
  },
  {
   "cell_type": "code",
   "execution_count": 31,
   "id": "b98d5ea8-46e7-4154-b774-34a2fbac3c89",
   "metadata": {},
   "outputs": [
    {
     "name": "stderr",
     "output_type": "stream",
     "text": [
      "Summarize dataset:  56%|███████████████████████████████████████████████████▏                                       | 9/16 [00:00<00:00, 74.30it/s, Describe variable: definitions]\n",
      "100%|█████████████████████████████████████████████████████████████████████████████████████████████████████████████████████████████████████████| 11/11 [00:00<00:00, 262144.00it/s]\n",
      "Summarize dataset: 100%|███████████████████████████████████████████████████████████████████████████████████████████████████████████████| 22/22 [00:00<00:00, 80.67it/s, Completed]\n",
      "Generate report structure: 100%|████████████████████████████████████████████████████████████████████████████████████████████████████████████████████| 1/1 [00:01<00:00,  1.08s/it]\n",
      "Render HTML: 100%|██████████████████████████████████████████████████████████████████████████████████████████████████████████████████████████████████| 1/1 [00:00<00:00,  7.36it/s]\n",
      "Export report to file: 100%|███████████████████████████████████████████████████████████████████████████████████████████████████████████████████████| 1/1 [00:00<00:00, 482.83it/s]\n"
     ]
    }
   ],
   "source": [
    "profile.to_file('eda.html')"
   ]
  },
  {
   "cell_type": "code",
   "execution_count": 28,
   "id": "526548bf-6239-4bbe-b1ab-00d910c48485",
   "metadata": {},
   "outputs": [],
   "source": [
    "wordcloud = WordCloud().generate(str(df[\"definitions\"]))"
   ]
  },
  {
   "cell_type": "code",
   "execution_count": 29,
   "id": "1a5edd47-8a27-442e-be80-52d9b5b6247c",
   "metadata": {},
   "outputs": [],
   "source": [
    "plt.imshow(wordcloud, interpolation='bilinear')\n",
    "plt.axis(\"off\")\n",
    "plt.savefig('word_cloud.png')"
   ]
  },
  {
   "cell_type": "code",
   "execution_count": 42,
   "id": "e386b270-2812-4a7d-9f28-b419a5928281",
   "metadata": {},
   "outputs": [
    {
     "data": {
      "text/plain": [
       "definitions\n",
       "ICD-10 : U09.9 , , , ,                                                          8\n",
       "ICD-10 : U09.9 , ICD-10 : B94.8, , ,                                            4\n",
       ", , Visit to Long COVID Clinic, ,                                               2\n",
       ", , , Computaional Phenotype Model based on U09.9 indicator,                    2\n",
       "ICD-10 : U09.9 , ICD-10 : B94.8, Visit to Long COVID Clinic, ,                  2\n",
       "ICD-10 : U09.9 , , Visit to Long COVID Clinic, ,                                1\n",
       "ICD-10 : U09.9 , , , Computaional Phenotype Model based on U09.9 indicator,     1\n",
       ", , , , NLP on EHR reports                                                      1\n",
       "Name: count, dtype: int64"
      ]
     },
     "execution_count": 42,
     "metadata": {},
     "output_type": "execute_result"
    }
   ],
   "source": [
    "df[\"definitions\"].value_counts()"
   ]
  },
  {
   "cell_type": "code",
   "execution_count": 40,
   "id": "9a214e09-6cdb-4913-83d8-4197fac4d190",
   "metadata": {},
   "outputs": [
    {
     "data": {
      "image/png": "[encoded data removed]",
      "text/plain": [
       "<Figure size 640x480 with 1 Axes>"
      ]
     },
     "metadata": {},
     "output_type": "display_data"
    }
   ],
   "source": [
    "sns.countplot(df[\"definitions\"])\n",
    "plt.show()"
   ]
  },
  {
   "cell_type": "code",
   "execution_count": null,
   "id": "c4dd837d-4b4b-49ea-8495-5aeb84db47ad",
   "metadata": {},
   "outputs": [],
   "source": [
    "defin"
   ]
  }
 ],
 "metadata": {
  "kernelspec": {
   "display_name": "Python 3 (ipykernel)",
   "language": "python",
   "name": "python3"
  },
  "language_info": {
   "codemirror_mode": {
    "name": "ipython",
    "version": 3
   },
   "file_extension": ".py",
   "mimetype": "text/x-python",
   "name": "python",
   "nbconvert_exporter": "python",
   "pygments_lexer": "ipython3",
   "version": "3.12.11"
  }
 },
 "nbformat": 4,
 "nbformat_minor": 5
}
